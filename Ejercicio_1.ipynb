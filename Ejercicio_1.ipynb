{
  "nbformat": 4,
  "nbformat_minor": 0,
  "metadata": {
    "colab": {
      "name": "Ejercicio 1.ipynb",
      "provenance": [],
      "collapsed_sections": [],
      "include_colab_link": true
    },
    "kernelspec": {
      "name": "python3",
      "display_name": "Python 3"
    }
  },
  "cells": [
    {
      "cell_type": "markdown",
      "metadata": {
        "id": "view-in-github",
        "colab_type": "text"
      },
      "source": [
        "<a href=\"https://colab.research.google.com/github/ManuelD22/ICD/blob/master/Ejercicio_1.ipynb\" target=\"_parent\"><img src=\"https://colab.research.google.com/assets/colab-badge.svg\" alt=\"Open In Colab\"/></a>"
      ]
    },
    {
      "cell_type": "code",
      "metadata": {
        "id": "lmrHlhdLA0AX",
        "colab_type": "code",
        "colab": {}
      },
      "source": [
        "import numpy as np\n",
        "import matplotlib.pyplot as plt\n",
        "import pandas as pd\n",
        "from pandas.compat import StringIO"
      ],
      "execution_count": 0,
      "outputs": []
    },
    {
      "cell_type": "code",
      "metadata": {
        "id": "l5eaCOJ2AWoI",
        "colab_type": "code",
        "colab": {}
      },
      "source": [
        "data=\"\"\"6.1101,17.592\n",
        "5.5277,9.1302\n",
        "8.5186,13.662\n",
        "7.0032,11.854\n",
        "5.8598,6.8233\n",
        "8.3829,11.886\n",
        "7.4764,4.3483\n",
        "8.5781,12\n",
        "6.4862,6.5987\n",
        "5.0546,3.8166\n",
        "5.7107,3.2522\n",
        "14.164,15.505\n",
        "5.734,3.1551\n",
        "8.4084,7.2258\n",
        "5.6407,0.71618\n",
        "5.3794,3.5129\n",
        "6.3654,5.3048\n",
        "5.1301,0.56077\n",
        "6.4296,3.6518\n",
        "7.0708,5.3893\n",
        "6.1891,3.1386\n",
        "20.27,21.767\n",
        "5.4901,4.263\n",
        "6.3261,5.1875\n",
        "5.5649,3.0825\n",
        "18.945,22.638\n",
        "12.828,13.501\n",
        "10.957,7.0467\n",
        "13.176,14.692\n",
        "22.203,24.147\n",
        "5.2524,-1.22\n",
        "6.5894,5.9966\n",
        "9.2482,12.134\n",
        "5.8918,1.8495\n",
        "8.2111,6.5426\n",
        "7.9334,4.5623\n",
        "8.0959,4.1164\n",
        "5.6063,3.3928\n",
        "12.836,10.117\n",
        "6.3534,5.4974\n",
        "5.4069,0.55657\n",
        "6.8825,3.9115\n",
        "11.708,5.3854\n",
        "5.7737,2.4406\n",
        "7.8247,6.7318\n",
        "7.0931,1.0463\n",
        "5.0702,5.1337\n",
        "5.8014,1.844\n",
        "11.7,8.0043\n",
        "5.5416,1.0179\n",
        "7.5402,6.7504\n",
        "5.3077,1.8396\n",
        "7.4239,4.2885\n",
        "7.6031,4.9981\n",
        "6.3328,1.4233\n",
        "6.3589,-1.4211\n",
        "6.2742,2.4756\n",
        "5.6397,4.6042\n",
        "9.3102,3.9624\n",
        "9.4536,5.4141\n",
        "8.8254,5.1694\n",
        "5.1793,-0.74279\n",
        "21.279,17.929\n",
        "14.908,12.054\n",
        "18.959,17.054\n",
        "7.2182,4.8852\n",
        "8.2951,5.7442\n",
        "10.236,7.7754\n",
        "5.4994,1.0173\n",
        "20.341,20.992\n",
        "10.136,6.6799\n",
        "7.3345,4.0259\n",
        "6.0062,1.2784\n",
        "7.2259,3.3411\n",
        "5.0269,-2.6807\n",
        "6.5479,0.29678\n",
        "7.5386,3.8845\n",
        "5.0365,5.7014\n",
        "10.274,6.7526\n",
        "5.1077,2.0576\n",
        "5.7292,0.47953\n",
        "5.1884,0.20421\n",
        "6.3557,0.67861\n",
        "9.7687,7.5435\n",
        "6.5159,5.3436\n",
        "8.5172,4.2415\n",
        "9.1802,6.7981\n",
        "6.002,0.92695\n",
        "5.5204,0.152\n",
        "5.0594,2.8214\n",
        "5.7077,1.8451\n",
        "7.6366,4.2959\n",
        "5.8707,7.2029\n",
        "5.3054,1.9869\n",
        "8.2934,0.14454\n",
        "13.394,9.0551\n",
        "5.4369,0.61705\"\"\"\n"
      ],
      "execution_count": 0,
      "outputs": []
    },
    {
      "cell_type": "markdown",
      "metadata": {
        "id": "Fh7TX8RpEj0T",
        "colab_type": "text"
      },
      "source": [
        "Leemos los datos y le damos un formato de tabla"
      ]
    },
    {
      "cell_type": "code",
      "metadata": {
        "id": "6-nL9m9_AqfZ",
        "colab_type": "code",
        "outputId": "04cc302b-59e7-4549-e99f-5f9e27159a80",
        "colab": {
          "base_uri": "https://localhost:8080/",
          "height": 1000
        }
      },
      "source": [
        "df=pd.read_csv(StringIO(data),names=[\"poblacion\",\"costo\",])\n",
        "df"
      ],
      "execution_count": 0,
      "outputs": [
        {
          "output_type": "execute_result",
          "data": {
            "text/html": [
              "<div>\n",
              "<style scoped>\n",
              "    .dataframe tbody tr th:only-of-type {\n",
              "        vertical-align: middle;\n",
              "    }\n",
              "\n",
              "    .dataframe tbody tr th {\n",
              "        vertical-align: top;\n",
              "    }\n",
              "\n",
              "    .dataframe thead th {\n",
              "        text-align: right;\n",
              "    }\n",
              "</style>\n",
              "<table border=\"1\" class=\"dataframe\">\n",
              "  <thead>\n",
              "    <tr style=\"text-align: right;\">\n",
              "      <th></th>\n",
              "      <th>poblacion</th>\n",
              "      <th>costo</th>\n",
              "    </tr>\n",
              "  </thead>\n",
              "  <tbody>\n",
              "    <tr>\n",
              "      <th>0</th>\n",
              "      <td>6.1101</td>\n",
              "      <td>17.59200</td>\n",
              "    </tr>\n",
              "    <tr>\n",
              "      <th>1</th>\n",
              "      <td>5.5277</td>\n",
              "      <td>9.13020</td>\n",
              "    </tr>\n",
              "    <tr>\n",
              "      <th>2</th>\n",
              "      <td>8.5186</td>\n",
              "      <td>13.66200</td>\n",
              "    </tr>\n",
              "    <tr>\n",
              "      <th>3</th>\n",
              "      <td>7.0032</td>\n",
              "      <td>11.85400</td>\n",
              "    </tr>\n",
              "    <tr>\n",
              "      <th>4</th>\n",
              "      <td>5.8598</td>\n",
              "      <td>6.82330</td>\n",
              "    </tr>\n",
              "    <tr>\n",
              "      <th>5</th>\n",
              "      <td>8.3829</td>\n",
              "      <td>11.88600</td>\n",
              "    </tr>\n",
              "    <tr>\n",
              "      <th>6</th>\n",
              "      <td>7.4764</td>\n",
              "      <td>4.34830</td>\n",
              "    </tr>\n",
              "    <tr>\n",
              "      <th>7</th>\n",
              "      <td>8.5781</td>\n",
              "      <td>12.00000</td>\n",
              "    </tr>\n",
              "    <tr>\n",
              "      <th>8</th>\n",
              "      <td>6.4862</td>\n",
              "      <td>6.59870</td>\n",
              "    </tr>\n",
              "    <tr>\n",
              "      <th>9</th>\n",
              "      <td>5.0546</td>\n",
              "      <td>3.81660</td>\n",
              "    </tr>\n",
              "    <tr>\n",
              "      <th>10</th>\n",
              "      <td>5.7107</td>\n",
              "      <td>3.25220</td>\n",
              "    </tr>\n",
              "    <tr>\n",
              "      <th>11</th>\n",
              "      <td>14.1640</td>\n",
              "      <td>15.50500</td>\n",
              "    </tr>\n",
              "    <tr>\n",
              "      <th>12</th>\n",
              "      <td>5.7340</td>\n",
              "      <td>3.15510</td>\n",
              "    </tr>\n",
              "    <tr>\n",
              "      <th>13</th>\n",
              "      <td>8.4084</td>\n",
              "      <td>7.22580</td>\n",
              "    </tr>\n",
              "    <tr>\n",
              "      <th>14</th>\n",
              "      <td>5.6407</td>\n",
              "      <td>0.71618</td>\n",
              "    </tr>\n",
              "    <tr>\n",
              "      <th>15</th>\n",
              "      <td>5.3794</td>\n",
              "      <td>3.51290</td>\n",
              "    </tr>\n",
              "    <tr>\n",
              "      <th>16</th>\n",
              "      <td>6.3654</td>\n",
              "      <td>5.30480</td>\n",
              "    </tr>\n",
              "    <tr>\n",
              "      <th>17</th>\n",
              "      <td>5.1301</td>\n",
              "      <td>0.56077</td>\n",
              "    </tr>\n",
              "    <tr>\n",
              "      <th>18</th>\n",
              "      <td>6.4296</td>\n",
              "      <td>3.65180</td>\n",
              "    </tr>\n",
              "    <tr>\n",
              "      <th>19</th>\n",
              "      <td>7.0708</td>\n",
              "      <td>5.38930</td>\n",
              "    </tr>\n",
              "    <tr>\n",
              "      <th>20</th>\n",
              "      <td>6.1891</td>\n",
              "      <td>3.13860</td>\n",
              "    </tr>\n",
              "    <tr>\n",
              "      <th>21</th>\n",
              "      <td>20.2700</td>\n",
              "      <td>21.76700</td>\n",
              "    </tr>\n",
              "    <tr>\n",
              "      <th>22</th>\n",
              "      <td>5.4901</td>\n",
              "      <td>4.26300</td>\n",
              "    </tr>\n",
              "    <tr>\n",
              "      <th>23</th>\n",
              "      <td>6.3261</td>\n",
              "      <td>5.18750</td>\n",
              "    </tr>\n",
              "    <tr>\n",
              "      <th>24</th>\n",
              "      <td>5.5649</td>\n",
              "      <td>3.08250</td>\n",
              "    </tr>\n",
              "    <tr>\n",
              "      <th>25</th>\n",
              "      <td>18.9450</td>\n",
              "      <td>22.63800</td>\n",
              "    </tr>\n",
              "    <tr>\n",
              "      <th>26</th>\n",
              "      <td>12.8280</td>\n",
              "      <td>13.50100</td>\n",
              "    </tr>\n",
              "    <tr>\n",
              "      <th>27</th>\n",
              "      <td>10.9570</td>\n",
              "      <td>7.04670</td>\n",
              "    </tr>\n",
              "    <tr>\n",
              "      <th>28</th>\n",
              "      <td>13.1760</td>\n",
              "      <td>14.69200</td>\n",
              "    </tr>\n",
              "    <tr>\n",
              "      <th>29</th>\n",
              "      <td>22.2030</td>\n",
              "      <td>24.14700</td>\n",
              "    </tr>\n",
              "    <tr>\n",
              "      <th>...</th>\n",
              "      <td>...</td>\n",
              "      <td>...</td>\n",
              "    </tr>\n",
              "    <tr>\n",
              "      <th>67</th>\n",
              "      <td>10.2360</td>\n",
              "      <td>7.77540</td>\n",
              "    </tr>\n",
              "    <tr>\n",
              "      <th>68</th>\n",
              "      <td>5.4994</td>\n",
              "      <td>1.01730</td>\n",
              "    </tr>\n",
              "    <tr>\n",
              "      <th>69</th>\n",
              "      <td>20.3410</td>\n",
              "      <td>20.99200</td>\n",
              "    </tr>\n",
              "    <tr>\n",
              "      <th>70</th>\n",
              "      <td>10.1360</td>\n",
              "      <td>6.67990</td>\n",
              "    </tr>\n",
              "    <tr>\n",
              "      <th>71</th>\n",
              "      <td>7.3345</td>\n",
              "      <td>4.02590</td>\n",
              "    </tr>\n",
              "    <tr>\n",
              "      <th>72</th>\n",
              "      <td>6.0062</td>\n",
              "      <td>1.27840</td>\n",
              "    </tr>\n",
              "    <tr>\n",
              "      <th>73</th>\n",
              "      <td>7.2259</td>\n",
              "      <td>3.34110</td>\n",
              "    </tr>\n",
              "    <tr>\n",
              "      <th>74</th>\n",
              "      <td>5.0269</td>\n",
              "      <td>-2.68070</td>\n",
              "    </tr>\n",
              "    <tr>\n",
              "      <th>75</th>\n",
              "      <td>6.5479</td>\n",
              "      <td>0.29678</td>\n",
              "    </tr>\n",
              "    <tr>\n",
              "      <th>76</th>\n",
              "      <td>7.5386</td>\n",
              "      <td>3.88450</td>\n",
              "    </tr>\n",
              "    <tr>\n",
              "      <th>77</th>\n",
              "      <td>5.0365</td>\n",
              "      <td>5.70140</td>\n",
              "    </tr>\n",
              "    <tr>\n",
              "      <th>78</th>\n",
              "      <td>10.2740</td>\n",
              "      <td>6.75260</td>\n",
              "    </tr>\n",
              "    <tr>\n",
              "      <th>79</th>\n",
              "      <td>5.1077</td>\n",
              "      <td>2.05760</td>\n",
              "    </tr>\n",
              "    <tr>\n",
              "      <th>80</th>\n",
              "      <td>5.7292</td>\n",
              "      <td>0.47953</td>\n",
              "    </tr>\n",
              "    <tr>\n",
              "      <th>81</th>\n",
              "      <td>5.1884</td>\n",
              "      <td>0.20421</td>\n",
              "    </tr>\n",
              "    <tr>\n",
              "      <th>82</th>\n",
              "      <td>6.3557</td>\n",
              "      <td>0.67861</td>\n",
              "    </tr>\n",
              "    <tr>\n",
              "      <th>83</th>\n",
              "      <td>9.7687</td>\n",
              "      <td>7.54350</td>\n",
              "    </tr>\n",
              "    <tr>\n",
              "      <th>84</th>\n",
              "      <td>6.5159</td>\n",
              "      <td>5.34360</td>\n",
              "    </tr>\n",
              "    <tr>\n",
              "      <th>85</th>\n",
              "      <td>8.5172</td>\n",
              "      <td>4.24150</td>\n",
              "    </tr>\n",
              "    <tr>\n",
              "      <th>86</th>\n",
              "      <td>9.1802</td>\n",
              "      <td>6.79810</td>\n",
              "    </tr>\n",
              "    <tr>\n",
              "      <th>87</th>\n",
              "      <td>6.0020</td>\n",
              "      <td>0.92695</td>\n",
              "    </tr>\n",
              "    <tr>\n",
              "      <th>88</th>\n",
              "      <td>5.5204</td>\n",
              "      <td>0.15200</td>\n",
              "    </tr>\n",
              "    <tr>\n",
              "      <th>89</th>\n",
              "      <td>5.0594</td>\n",
              "      <td>2.82140</td>\n",
              "    </tr>\n",
              "    <tr>\n",
              "      <th>90</th>\n",
              "      <td>5.7077</td>\n",
              "      <td>1.84510</td>\n",
              "    </tr>\n",
              "    <tr>\n",
              "      <th>91</th>\n",
              "      <td>7.6366</td>\n",
              "      <td>4.29590</td>\n",
              "    </tr>\n",
              "    <tr>\n",
              "      <th>92</th>\n",
              "      <td>5.8707</td>\n",
              "      <td>7.20290</td>\n",
              "    </tr>\n",
              "    <tr>\n",
              "      <th>93</th>\n",
              "      <td>5.3054</td>\n",
              "      <td>1.98690</td>\n",
              "    </tr>\n",
              "    <tr>\n",
              "      <th>94</th>\n",
              "      <td>8.2934</td>\n",
              "      <td>0.14454</td>\n",
              "    </tr>\n",
              "    <tr>\n",
              "      <th>95</th>\n",
              "      <td>13.3940</td>\n",
              "      <td>9.05510</td>\n",
              "    </tr>\n",
              "    <tr>\n",
              "      <th>96</th>\n",
              "      <td>5.4369</td>\n",
              "      <td>0.61705</td>\n",
              "    </tr>\n",
              "  </tbody>\n",
              "</table>\n",
              "<p>97 rows × 2 columns</p>\n",
              "</div>"
            ],
            "text/plain": [
              "    poblacion     costo\n",
              "0      6.1101  17.59200\n",
              "1      5.5277   9.13020\n",
              "2      8.5186  13.66200\n",
              "3      7.0032  11.85400\n",
              "4      5.8598   6.82330\n",
              "5      8.3829  11.88600\n",
              "6      7.4764   4.34830\n",
              "7      8.5781  12.00000\n",
              "8      6.4862   6.59870\n",
              "9      5.0546   3.81660\n",
              "10     5.7107   3.25220\n",
              "11    14.1640  15.50500\n",
              "12     5.7340   3.15510\n",
              "13     8.4084   7.22580\n",
              "14     5.6407   0.71618\n",
              "15     5.3794   3.51290\n",
              "16     6.3654   5.30480\n",
              "17     5.1301   0.56077\n",
              "18     6.4296   3.65180\n",
              "19     7.0708   5.38930\n",
              "20     6.1891   3.13860\n",
              "21    20.2700  21.76700\n",
              "22     5.4901   4.26300\n",
              "23     6.3261   5.18750\n",
              "24     5.5649   3.08250\n",
              "25    18.9450  22.63800\n",
              "26    12.8280  13.50100\n",
              "27    10.9570   7.04670\n",
              "28    13.1760  14.69200\n",
              "29    22.2030  24.14700\n",
              "..        ...       ...\n",
              "67    10.2360   7.77540\n",
              "68     5.4994   1.01730\n",
              "69    20.3410  20.99200\n",
              "70    10.1360   6.67990\n",
              "71     7.3345   4.02590\n",
              "72     6.0062   1.27840\n",
              "73     7.2259   3.34110\n",
              "74     5.0269  -2.68070\n",
              "75     6.5479   0.29678\n",
              "76     7.5386   3.88450\n",
              "77     5.0365   5.70140\n",
              "78    10.2740   6.75260\n",
              "79     5.1077   2.05760\n",
              "80     5.7292   0.47953\n",
              "81     5.1884   0.20421\n",
              "82     6.3557   0.67861\n",
              "83     9.7687   7.54350\n",
              "84     6.5159   5.34360\n",
              "85     8.5172   4.24150\n",
              "86     9.1802   6.79810\n",
              "87     6.0020   0.92695\n",
              "88     5.5204   0.15200\n",
              "89     5.0594   2.82140\n",
              "90     5.7077   1.84510\n",
              "91     7.6366   4.29590\n",
              "92     5.8707   7.20290\n",
              "93     5.3054   1.98690\n",
              "94     8.2934   0.14454\n",
              "95    13.3940   9.05510\n",
              "96     5.4369   0.61705\n",
              "\n",
              "[97 rows x 2 columns]"
            ]
          },
          "metadata": {
            "tags": []
          },
          "execution_count": 4
        }
      ]
    },
    {
      "cell_type": "markdown",
      "metadata": {
        "id": "oSCx_zjMErA7",
        "colab_type": "text"
      },
      "source": [
        "Elegimos que $X$ sea la columna de población y que $y$ sea la columna de costo"
      ]
    },
    {
      "cell_type": "code",
      "metadata": {
        "id": "jbIucKhSBQb5",
        "colab_type": "code",
        "colab": {}
      },
      "source": [
        "X, y=np.array(df)[:,0],np.array(df)[:,1]\n",
        "m=y.size"
      ],
      "execution_count": 0,
      "outputs": []
    },
    {
      "cell_type": "markdown",
      "metadata": {
        "id": "9irPSEO1W4rK",
        "colab_type": "text"
      },
      "source": [
        "Graficamos los datos para ver su comportamiento"
      ]
    },
    {
      "cell_type": "code",
      "metadata": {
        "id": "CfnW6_1zBdvs",
        "colab_type": "code",
        "outputId": "17a71b0c-8d83-4b2d-e896-faecbc05ae12",
        "colab": {
          "base_uri": "https://localhost:8080/",
          "height": 286
        }
      },
      "source": [
        "plt.plot(X,y,'ro')"
      ],
      "execution_count": 0,
      "outputs": [
        {
          "output_type": "execute_result",
          "data": {
            "text/plain": [
              "[<matplotlib.lines.Line2D at 0x7fbce7831860>]"
            ]
          },
          "metadata": {
            "tags": []
          },
          "execution_count": 6
        },
        {
          "output_type": "display_data",
          "data": {
            "image/png": "[encoded data removed]",
            "text/plain": [
              "<Figure size 432x288 with 1 Axes>"
            ]
          },
          "metadata": {
            "tags": []
          }
        }
      ]
    },
    {
      "cell_type": "markdown",
      "metadata": {
        "id": "bLQWdXY4LRLF",
        "colab_type": "text"
      },
      "source": [
        "##Ecuacion maestra\n",
        "\n",
        "Construimos la matriz $X$ que contiene los coeficientes de las variables en este caso $X=\\left[X_0,X_1\\right]$ con $X_0=\\left[1,1,...,1\\right]$"
      ]
    },
    {
      "cell_type": "code",
      "metadata": {
        "id": "H5L21LOVBjt0",
        "colab_type": "code",
        "outputId": "4cc66f35-65ce-4aaa-c66a-91477c6e1902",
        "colab": {
          "base_uri": "https://localhost:8080/",
          "height": 1000
        }
      },
      "source": [
        "X=np.stack([np.ones(m),X],axis=1)\n",
        "X"
      ],
      "execution_count": 0,
      "outputs": [
        {
          "output_type": "execute_result",
          "data": {
            "text/plain": [
              "array([[ 1.    ,  6.1101],\n",
              "       [ 1.    ,  5.5277],\n",
              "       [ 1.    ,  8.5186],\n",
              "       [ 1.    ,  7.0032],\n",
              "       [ 1.    ,  5.8598],\n",
              "       [ 1.    ,  8.3829],\n",
              "       [ 1.    ,  7.4764],\n",
              "       [ 1.    ,  8.5781],\n",
              "       [ 1.    ,  6.4862],\n",
              "       [ 1.    ,  5.0546],\n",
              "       [ 1.    ,  5.7107],\n",
              "       [ 1.    , 14.164 ],\n",
              "       [ 1.    ,  5.734 ],\n",
              "       [ 1.    ,  8.4084],\n",
              "       [ 1.    ,  5.6407],\n",
              "       [ 1.    ,  5.3794],\n",
              "       [ 1.    ,  6.3654],\n",
              "       [ 1.    ,  5.1301],\n",
              "       [ 1.    ,  6.4296],\n",
              "       [ 1.    ,  7.0708],\n",
              "       [ 1.    ,  6.1891],\n",
              "       [ 1.    , 20.27  ],\n",
              "       [ 1.    ,  5.4901],\n",
              "       [ 1.    ,  6.3261],\n",
              "       [ 1.    ,  5.5649],\n",
              "       [ 1.    , 18.945 ],\n",
              "       [ 1.    , 12.828 ],\n",
              "       [ 1.    , 10.957 ],\n",
              "       [ 1.    , 13.176 ],\n",
              "       [ 1.    , 22.203 ],\n",
              "       [ 1.    ,  5.2524],\n",
              "       [ 1.    ,  6.5894],\n",
              "       [ 1.    ,  9.2482],\n",
              "       [ 1.    ,  5.8918],\n",
              "       [ 1.    ,  8.2111],\n",
              "       [ 1.    ,  7.9334],\n",
              "       [ 1.    ,  8.0959],\n",
              "       [ 1.    ,  5.6063],\n",
              "       [ 1.    , 12.836 ],\n",
              "       [ 1.    ,  6.3534],\n",
              "       [ 1.    ,  5.4069],\n",
              "       [ 1.    ,  6.8825],\n",
              "       [ 1.    , 11.708 ],\n",
              "       [ 1.    ,  5.7737],\n",
              "       [ 1.    ,  7.8247],\n",
              "       [ 1.    ,  7.0931],\n",
              "       [ 1.    ,  5.0702],\n",
              "       [ 1.    ,  5.8014],\n",
              "       [ 1.    , 11.7   ],\n",
              "       [ 1.    ,  5.5416],\n",
              "       [ 1.    ,  7.5402],\n",
              "       [ 1.    ,  5.3077],\n",
              "       [ 1.    ,  7.4239],\n",
              "       [ 1.    ,  7.6031],\n",
              "       [ 1.    ,  6.3328],\n",
              "       [ 1.    ,  6.3589],\n",
              "       [ 1.    ,  6.2742],\n",
              "       [ 1.    ,  5.6397],\n",
              "       [ 1.    ,  9.3102],\n",
              "       [ 1.    ,  9.4536],\n",
              "       [ 1.    ,  8.8254],\n",
              "       [ 1.    ,  5.1793],\n",
              "       [ 1.    , 21.279 ],\n",
              "       [ 1.    , 14.908 ],\n",
              "       [ 1.    , 18.959 ],\n",
              "       [ 1.    ,  7.2182],\n",
              "       [ 1.    ,  8.2951],\n",
              "       [ 1.    , 10.236 ],\n",
              "       [ 1.    ,  5.4994],\n",
              "       [ 1.    , 20.341 ],\n",
              "       [ 1.    , 10.136 ],\n",
              "       [ 1.    ,  7.3345],\n",
              "       [ 1.    ,  6.0062],\n",
              "       [ 1.    ,  7.2259],\n",
              "       [ 1.    ,  5.0269],\n",
              "       [ 1.    ,  6.5479],\n",
              "       [ 1.    ,  7.5386],\n",
              "       [ 1.    ,  5.0365],\n",
              "       [ 1.    , 10.274 ],\n",
              "       [ 1.    ,  5.1077],\n",
              "       [ 1.    ,  5.7292],\n",
              "       [ 1.    ,  5.1884],\n",
              "       [ 1.    ,  6.3557],\n",
              "       [ 1.    ,  9.7687],\n",
              "       [ 1.    ,  6.5159],\n",
              "       [ 1.    ,  8.5172],\n",
              "       [ 1.    ,  9.1802],\n",
              "       [ 1.    ,  6.002 ],\n",
              "       [ 1.    ,  5.5204],\n",
              "       [ 1.    ,  5.0594],\n",
              "       [ 1.    ,  5.7077],\n",
              "       [ 1.    ,  7.6366],\n",
              "       [ 1.    ,  5.8707],\n",
              "       [ 1.    ,  5.3054],\n",
              "       [ 1.    ,  8.2934],\n",
              "       [ 1.    , 13.394 ],\n",
              "       [ 1.    ,  5.4369]])"
            ]
          },
          "metadata": {
            "tags": []
          },
          "execution_count": 7
        }
      ]
    },
    {
      "cell_type": "markdown",
      "metadata": {
        "id": "ytO6DUAyYdpH",
        "colab_type": "text"
      },
      "source": [
        "Para llegar a los objetivos ($y$), se tiene que $y=\\theta X$ \\\\\n",
        "Con $\\theta=\\left[\\theta_0,\\theta_1\\right]^T$ \\\\\n",
        "De esta forma $\\theta=(X^TX)^{-1}X^Ty$ \\\\\n",
        "Al producto $X^TX$ lo renombramos $M$"
      ]
    },
    {
      "cell_type": "code",
      "metadata": {
        "id": "bEgm5jvbBwrp",
        "colab_type": "code",
        "outputId": "846681a8-1d15-4534-e7e3-0cff2dcfee8e",
        "colab": {
          "base_uri": "https://localhost:8080/",
          "height": 34
        }
      },
      "source": [
        "Xt=X.transpose()\n",
        "M=Xt.dot(X)\n",
        "np.linalg.det(M)"
      ],
      "execution_count": 0,
      "outputs": [
        {
          "output_type": "execute_result",
          "data": {
            "text/plain": [
              "139456.49821241948"
            ]
          },
          "metadata": {
            "tags": []
          },
          "execution_count": 8
        }
      ]
    },
    {
      "cell_type": "markdown",
      "metadata": {
        "id": "HMNdbu1CZ-F9",
        "colab_type": "text"
      },
      "source": [
        "Así tenemos que $\\theta=(M)^{-1}X^Ty$\n",
        "Se calcula el determinante de $M$ para ver si la matriz es invertible. \\\\\n",
        "La matriz es invertible si $detM\\neq0$ \\\\\n",
        "Invertimos la matriz \\\\\n",
        "Y hacemos $M_{inv}=M^{-1}$ \\\\\n",
        "$\\theta=M_{inv}X^Ty$"
      ]
    },
    {
      "cell_type": "code",
      "metadata": {
        "id": "guSYYBMKCMT1",
        "colab_type": "code",
        "colab": {}
      },
      "source": [
        "Minv=np.linalg.inv(M)"
      ],
      "execution_count": 0,
      "outputs": []
    },
    {
      "cell_type": "markdown",
      "metadata": {
        "id": "zmVijSOfbjnZ",
        "colab_type": "text"
      },
      "source": [
        "Finalmente para encontrar $\\theta$ multiplicamos $M_{inv}X^Ty$"
      ]
    },
    {
      "cell_type": "code",
      "metadata": {
        "id": "jUoGEBqaCRWh",
        "colab_type": "code",
        "outputId": "0ad18f1e-ed0c-451f-c6f6-6888be85d81e",
        "colab": {
          "base_uri": "https://localhost:8080/",
          "height": 34
        }
      },
      "source": [
        "theta_em=Minv.dot(Xt).dot(y)\n",
        "theta_em"
      ],
      "execution_count": 0,
      "outputs": [
        {
          "output_type": "execute_result",
          "data": {
            "text/plain": [
              "array([-3.89578088,  1.19303364])"
            ]
          },
          "metadata": {
            "tags": []
          },
          "execution_count": 10
        }
      ]
    },
    {
      "cell_type": "markdown",
      "metadata": {
        "id": "BSJoEyL0LJdX",
        "colab_type": "text"
      },
      "source": [
        "##Linear regression\n",
        "\n",
        "Utilizamos las funciones de sklearn para hacer una regresion lineal"
      ]
    },
    {
      "cell_type": "code",
      "metadata": {
        "id": "Sn_p4NO8CXqp",
        "colab_type": "code",
        "outputId": "f4059cb8-6ff7-4879-eb7a-661b54a22bf7",
        "colab": {
          "base_uri": "https://localhost:8080/",
          "height": 34
        }
      },
      "source": [
        "from sklearn.linear_model import LinearRegression\n",
        "lr=LinearRegression()\n",
        "x=X[:,1].reshape(-1,1)\n",
        "regr=lr.fit(x,y)\n",
        "y_pred=lr.predict(x)\n",
        "theta_lr=[regr.intercept_, regr.coef_[0]]\n",
        "theta_lr"
      ],
      "execution_count": 0,
      "outputs": [
        {
          "output_type": "execute_result",
          "data": {
            "text/plain": [
              "[-3.89578087831185, 1.1930336441895935]"
            ]
          },
          "metadata": {
            "tags": []
          },
          "execution_count": 11
        }
      ]
    },
    {
      "cell_type": "markdown",
      "metadata": {
        "id": "as3bPBj0CowI",
        "colab_type": "text"
      },
      "source": [
        "##Descenso por el gradiente\n",
        "\n",
        "Definimos la funcion de costo como $J(\\theta)=\\frac{1}{2N}\\Sigma_{i=1}^N\\left[h_\\theta(x^i)-y^i\\right]^2$ \\\\\n",
        "Con $N$ el numero de datos que tenemos \\\\\n",
        "Tambien, nuestra hipotesis\n",
        "$h_\\theta(x^i)=\\theta_0 x_0^i+\\theta_1 x_1^i$ \\\\\n",
        "Podemos darnos cuenta que es el producto de $X$ y $\\theta$ \\\\\n",
        "Así siguiendo la formula del costo, hacemos la definicion"
      ]
    },
    {
      "cell_type": "code",
      "metadata": {
        "id": "xoDnim7UDaV4",
        "colab_type": "code",
        "colab": {}
      },
      "source": [
        "def calculoCosto(X,y,theta):\n",
        "  m=y.size\n",
        "  J=0\n",
        "  h=np.dot(X,theta)\n",
        "  J=(1/(2*m))*np.sum(np.square(h-y))\n",
        "  return J"
      ],
      "execution_count": 0,
      "outputs": []
    },
    {
      "cell_type": "markdown",
      "metadata": {
        "id": "xx6Xlt7b8zxK",
        "colab_type": "text"
      },
      "source": [
        "Damos valores iniciales para $\\theta$ y calculamos el costo"
      ]
    },
    {
      "cell_type": "code",
      "metadata": {
        "id": "COJA-jaAEPqo",
        "colab_type": "code",
        "outputId": "92cbbb6d-c210-4ef5-fcb0-5609dba78126",
        "colab": {
          "base_uri": "https://localhost:8080/",
          "height": 34
        }
      },
      "source": [
        "theta=[0,0]\n",
        "calculoCosto(X,y,theta)"
      ],
      "execution_count": 0,
      "outputs": [
        {
          "output_type": "execute_result",
          "data": {
            "text/plain": [
              "32.072733877455676"
            ]
          },
          "metadata": {
            "tags": []
          },
          "execution_count": 13
        }
      ]
    },
    {
      "cell_type": "markdown",
      "metadata": {
        "id": "l5Fjpgk79Db0",
        "colab_type": "text"
      },
      "source": [
        "Ya que al derivar la funcion costo respecto a $\\theta_0$ y respecto a $\\theta_1$ obtenemos respectivamente: \\\\\n",
        "\\begin{equation}\n",
        "\\frac{\\partial J}{\\partial\\theta_0}=\\frac{1}{N}\\Sigma_{i=1}^N(\\theta_0x_0^i+\\theta_1x_1^i-y^i)\\cdot x_0^i \\\\\n",
        "\\frac{\\partial J}{\\partial\\theta_1}=\\frac{1}{N}\\Sigma_{i=1}^N(\\theta_0x_0^i+\\theta_1x_1^i-y^i)\\cdot x_1^i \\\\\n",
        "\\end{equation}\n",
        "Dado que al derivar la funcion costo obtenemos la misma funcion por $x^i$\n",
        "Podemos aplicar el descenso por el gradiente \\\\\n",
        "$\\theta_j=\\theta_j-\\frac{\\alpha}{m}\\frac{\\partial J}{\\partial \\theta_j}$ \\\\\n",
        "Si hacemos multiples iteraciones, los valores de $\\theta$ van a converger \n"
      ]
    },
    {
      "cell_type": "code",
      "metadata": {
        "id": "Np-I-MV2EfmJ",
        "colab_type": "code",
        "colab": {}
      },
      "source": [
        "def desGrad(X,y,theta,alpha,num_iters):\n",
        "  m=y.shape[0]\n",
        "  theta=theta.copy()\n",
        "  J_historico=[]\n",
        "  for it in range(num_iters):\n",
        "    theta=theta-(alpha/m)*(np.dot(X,theta)-y).dot(X)\n",
        "    J_historico.append(calculoCosto(X,y,theta))\n",
        "  return theta,J_historico"
      ],
      "execution_count": 0,
      "outputs": []
    },
    {
      "cell_type": "markdown",
      "metadata": {
        "id": "VtGM_L1t_LCd",
        "colab_type": "text"
      },
      "source": [
        "Ingresamos una semilla para los valores de $\\theta$ y aplicamos el descenso por el gradiente definido anteriormente"
      ]
    },
    {
      "cell_type": "code",
      "metadata": {
        "id": "mOa3fvY4EngU",
        "colab_type": "code",
        "outputId": "4f022e6b-ea23-4114-9497-cc9391facf15",
        "colab": {
          "base_uri": "https://localhost:8080/",
          "height": 52
        }
      },
      "source": [
        "theta=np.zeros(X.shape[1])\n",
        "print(theta)\n",
        "theta_dg , J =desGrad(X,y,theta,0.0001,1500000)\n",
        "print (theta_dg)"
      ],
      "execution_count": 0,
      "outputs": [
        {
          "output_type": "stream",
          "text": [
            "[0. 0.]\n",
            "[-3.89578088  1.19303364]\n"
          ],
          "name": "stdout"
        }
      ]
    },
    {
      "cell_type": "markdown",
      "metadata": {
        "id": "TAThBy34_a3u",
        "colab_type": "text"
      },
      "source": [
        "Graficamos los datos, y las tres formas en que se hizo la regresion lineal, las cuales tienen que aproximarse o coincidir"
      ]
    },
    {
      "cell_type": "code",
      "metadata": {
        "id": "PeCOTRHQEqBI",
        "colab_type": "code",
        "outputId": "911a1f48-6aad-4a35-801a-084fa601a0d5",
        "colab": {
          "base_uri": "https://localhost:8080/",
          "height": 286
        }
      },
      "source": [
        "plt.plot(X[:,1],y,'ro',ms=10,mec='k')\n",
        "plt.plot(X[:,1],np.dot(X,theta_dg),'o',ms=8)\n",
        "plt.plot(X[:,1],np.dot(X,theta_em),'+',color='yellow',ms=8)\n",
        "plt.plot(x,y_pred,color='green',linewidth=1)\n",
        "plt.legend(['Data','DG','EM','LR'])"
      ],
      "execution_count": 0,
      "outputs": [
        {
          "output_type": "execute_result",
          "data": {
            "text/plain": [
              "<matplotlib.legend.Legend at 0x7fbcd69fc080>"
            ]
          },
          "metadata": {
            "tags": []
          },
          "execution_count": 16
        },
        {
          "output_type": "display_data",
          "data": {
            "image/png": "[encoded data removed]",
            "text/plain": [
              "<Figure size 432x288 with 1 Axes>"
            ]
          },
          "metadata": {
            "tags": []
          }
        }
      ]
    },
    {
      "cell_type": "code",
      "metadata": {
        "id": "tZjpg4kaFzO6",
        "colab_type": "code",
        "colab": {}
      },
      "source": [
        ""
      ],
      "execution_count": 0,
      "outputs": []
    }
  ]
}