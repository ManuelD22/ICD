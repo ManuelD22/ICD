{
  "nbformat": 4,
  "nbformat_minor": 0,
  "metadata": {
    "colab": {
      "name": "ED.ipynb",
      "provenance": [],
      "collapsed_sections": [],
      "include_colab_link": true
    },
    "kernelspec": {
      "name": "python3",
      "display_name": "Python 3"
    }
  },
  "cells": [
    {
      "cell_type": "markdown",
      "metadata": {
        "id": "view-in-github",
        "colab_type": "text"
      },
      "source": [
        "<a href=\"https://colab.research.google.com/github/ManuelD22/ICD/blob/master/ED.ipynb\" target=\"_parent\"><img src=\"https://colab.research.google.com/assets/colab-badge.svg\" alt=\"Open In Colab\"/></a>"
      ]
    },
    {
      "cell_type": "markdown",
      "metadata": {
        "id": "TjyvdicloOeh",
        "colab_type": "text"
      },
      "source": [
        "Se quiere resolver la ecuacion diferencial\n",
        "\\begin{eqnarray}\n",
        "\\Phi''+\\frac{\\xi}{2}\\Phi'+\\frac{1}{2}\\Phi=0 \\\\\n",
        "\\Phi''=-\\frac{\\xi}{2}\\Phi'-\\frac{1}{2}\\Phi\n",
        "\\end{eqnarray}\n",
        "Hacemos $\\Phi'=y$, así\n",
        "\\begin{eqnarray}\n",
        "y'&=&-\\frac{\\xi}{2}y-\\frac{1}{2}\\Phi \\\\\n",
        "\\vec{p}&=&\\left[\\begin{array}{c}{\\Phi} \\\\ {y}\\end{array}\\right] \\\\\n",
        "\\vec{p}'&=&\\left[\\begin{array}{c}{\\Phi'} \\\\ {y'}\\end{array}\\right]=\\left[\\begin{array}{c}{y} \\\\ {-\\frac{\\xi}{2}}y-\\frac{1}{2}\\Phi\\end{array}\\right]\n",
        "\\end{eqnarray}"
      ]
    },
    {
      "cell_type": "code",
      "metadata": {
        "id": "bCZyModj-IaD",
        "colab_type": "code",
        "colab": {}
      },
      "source": [
        "import numpy as np\n",
        "import matplotlib.pyplot as plt"
      ],
      "execution_count": 0,
      "outputs": []
    },
    {
      "cell_type": "code",
      "metadata": {
        "id": "g-EgpZ6noLbL",
        "colab_type": "code",
        "colab": {}
      },
      "source": [
        "def p_dot(t_n,p_n):\n",
        "  \"\"\"regresa la derivada del vector p\"\"\"\n",
        "  phi, y = p_n[0],p_n[1]\n",
        "  phi_dot= y\n",
        "  y_dot=-(1/2)*t_n*y-(1/2)*phi\n",
        "  return np.asarray([phi_dot,y_dot])"
      ],
      "execution_count": 0,
      "outputs": []
    },
    {
      "cell_type": "code",
      "metadata": {
        "id": "PyNKu5hBy5Gf",
        "colab_type": "code",
        "colab": {}
      },
      "source": [
        "def ppaso_euler(f,t_n,p_n,dt):\n",
        "  \"\"\"Toma un paso usando el metodo de euler\n",
        "  p_n = valor actual del vector al tiempo t=t_n\n",
        "  f = funcion que calcula la derivada de p(t)\"\"\"\n",
        "\n",
        "  p_dot=f(t_n,p_n)\n",
        "  p_n_mas_1=p_n+dt*p_dot\n",
        "  return p_n_mas_1"
      ],
      "execution_count": 0,
      "outputs": []
    },
    {
      "cell_type": "code",
      "metadata": {
        "id": "E3ePi4Sm09Tm",
        "colab_type": "code",
        "colab": {}
      },
      "source": [
        "def integrador_simple(f,t,p_0,dt):\n",
        "  \"\"\"Calcula la trayectoria de valores de p usando el metodo de\n",
        "  Euler con pasos constantes\n",
        "  f = funcion que calcula la derivada de p(t), p(t,y)\n",
        "  p_0 = valor inicial de p, p_0=[p0_0,p1_0,...]\n",
        "  t = lista con el intervalo[t_0, t_f]\n",
        "  dt = distancia entre pasos de tiempo\"\"\"\n",
        "  \n",
        "  t_0,t_f=t\n",
        "  n=int((t_f-t_0)/dt)\n",
        "  d=len(p_0)\n",
        "  p_tray=np.zeros(((n+1),d))\n",
        "  t=np.linspace(t_0,t_f,n+1)\n",
        "  p_tray[0,:]=p_0\n",
        "  for i in range(n):\n",
        "    p_tray[i+1,:]=ppaso_euler(f,t[i],p_tray[i,:],dt)\n",
        "  return t, p_tray"
      ],
      "execution_count": 0,
      "outputs": []
    },
    {
      "cell_type": "code",
      "metadata": {
        "id": "vlIJM_WX1RBE",
        "colab_type": "code",
        "colab": {}
      },
      "source": [
        "t1, p_traj=integrador_simple(p_dot,[0,10],[1.,0.],0.001)"
      ],
      "execution_count": 0,
      "outputs": []
    },
    {
      "cell_type": "code",
      "metadata": {
        "id": "Wz5SyYY528Ez",
        "colab_type": "code",
        "outputId": "12c79d66-711a-498b-e0e9-d95bff15a670",
        "colab": {
          "base_uri": "https://localhost:8080/",
          "height": 283
        }
      },
      "source": [
        "plt.plot(t1,p_traj[:,0])"
      ],
      "execution_count": 0,
      "outputs": [
        {
          "output_type": "execute_result",
          "data": {
            "text/plain": [
              "[<matplotlib.lines.Line2D at 0x7f8660bd58d0>]"
            ]
          },
          "metadata": {
            "tags": []
          },
          "execution_count": 97
        },
        {
          "output_type": "display_data",
          "data": {
            "image/png": "[encoded data removed]",
            "text/plain": [
              "<Figure size 432x288 with 1 Axes>"
            ]
          },
          "metadata": {
            "tags": []
          }
        }
      ]
    },
    {
      "cell_type": "markdown",
      "metadata": {
        "id": "714HLNAb9-_H",
        "colab_type": "text"
      },
      "source": [
        "Sin embargo, solo se tienen los pasos positivos, para tener la otra mitad de la grafica definimos un paso de euler negativo y un integrador simple"
      ]
    },
    {
      "cell_type": "code",
      "metadata": {
        "id": "cwapiieV9-KE",
        "colab_type": "code",
        "colab": {}
      },
      "source": [
        "def npaso_euler(f,t_n,p_n,dt):\n",
        "  p_dot = f(t_n, p_n)\n",
        "  p_n_mas_1 = p_n - dt*p_dot\n",
        "  return p_n_mas_1"
      ],
      "execution_count": 0,
      "outputs": []
    },
    {
      "cell_type": "code",
      "metadata": {
        "id": "gsoBZ12O_eXK",
        "colab_type": "code",
        "colab": {}
      },
      "source": [
        "def nintegrador_simple(f,t,p_0,dt):\n",
        "  t_0,t_f=t\n",
        "  n=int((t_0-t_f)/dt)   \n",
        "  d=len(p_0)\n",
        "  p_tray=np.zeros(((n+1),d))\n",
        "  t=np.linspace(t_0,t_f,n+1)\n",
        "  p_tray[0,:]=p_0\n",
        "  for i in range(n):\n",
        "    p_tray[i+1,:]=npaso_euler(f,t[i],p_tray[i,:],dt)\n",
        "  return t, p_tray"
      ],
      "execution_count": 0,
      "outputs": []
    },
    {
      "cell_type": "code",
      "metadata": {
        "id": "8vPgyd7FA4zX",
        "colab_type": "code",
        "colab": {}
      },
      "source": [
        "t2,np_traj=nintegrador_simple(p_dot,[0,-10],[1,0],0.001)"
      ],
      "execution_count": 0,
      "outputs": []
    },
    {
      "cell_type": "code",
      "metadata": {
        "id": "2yoW2Tx4BH5_",
        "colab_type": "code",
        "outputId": "3d2160f1-c509-459c-a766-c5d93f2c80b3",
        "colab": {
          "base_uri": "https://localhost:8080/",
          "height": 283
        }
      },
      "source": [
        "plt.plot(t2,np_traj[:,0])"
      ],
      "execution_count": 0,
      "outputs": [
        {
          "output_type": "execute_result",
          "data": {
            "text/plain": [
              "[<matplotlib.lines.Line2D at 0x7f8660b12dd8>]"
            ]
          },
          "metadata": {
            "tags": []
          },
          "execution_count": 104
        },
        {
          "output_type": "display_data",
          "data": {
            "image/png": "[encoded data removed]",
            "text/plain": [
              "<Figure size 432x288 with 1 Axes>"
            ]
          },
          "metadata": {
            "tags": []
          }
        }
      ]
    },
    {
      "cell_type": "markdown",
      "metadata": {
        "id": "-Vbexx2fBcpS",
        "colab_type": "text"
      },
      "source": [
        "Asi, ploteando ambas graficas"
      ]
    },
    {
      "cell_type": "code",
      "metadata": {
        "id": "aVQHezvcBMjf",
        "colab_type": "code",
        "outputId": "c7b3c012-ace0-4d05-ef30-d415de43ada0",
        "colab": {
          "base_uri": "https://localhost:8080/",
          "height": 283
        }
      },
      "source": [
        "plt.plot(t1,p_traj[:,0])\n",
        "plt.plot(t2,np_traj[:,0])\n"
      ],
      "execution_count": 0,
      "outputs": [
        {
          "output_type": "execute_result",
          "data": {
            "text/plain": [
              "[<matplotlib.lines.Line2D at 0x7f8660b87320>]"
            ]
          },
          "metadata": {
            "tags": []
          },
          "execution_count": 105
        },
        {
          "output_type": "display_data",
          "data": {
            "image/png": "[encoded data removed]",
            "text/plain": [
              "<Figure size 432x288 with 1 Axes>"
            ]
          },
          "metadata": {
            "tags": []
          }
        }
      ]
    },
    {
      "cell_type": "code",
      "metadata": {
        "id": "CnyRalSeBk44",
        "colab_type": "code",
        "colab": {}
      },
      "source": [
        "def graficador(f,t,q_0,dt):\n",
        "  t1, p_traj=integrador_simple(p_dot,[t[0],t[1]],q_0,0.001)\n",
        "  t2,np_traj=nintegrador_simple(p_dot,[t[0],-t[1]],q_0,0.001)\n",
        "  \n",
        "  return plt.plot(t1,p_traj[:,0]),plt.plot(t2,np_traj[:,0])\n"
      ],
      "execution_count": 0,
      "outputs": []
    },
    {
      "cell_type": "code",
      "metadata": {
        "id": "eKgfAWjiDOPF",
        "colab_type": "code",
        "outputId": "bac0ccbe-9b1d-4593-c1fb-e5d870ed5091",
        "colab": {
          "base_uri": "https://localhost:8080/",
          "height": 301
        }
      },
      "source": [
        "graficador(p_dot,[0,10],[1.,0.],0.001)"
      ],
      "execution_count": 0,
      "outputs": [
        {
          "output_type": "execute_result",
          "data": {
            "text/plain": [
              "([<matplotlib.lines.Line2D at 0x7f8660a52518>],\n",
              " [<matplotlib.lines.Line2D at 0x7f8660a52668>])"
            ]
          },
          "metadata": {
            "tags": []
          },
          "execution_count": 108
        },
        {
          "output_type": "display_data",
          "data": {
            "image/png": "[encoded data removed]",
            "text/plain": [
              "<Figure size 432x288 with 1 Axes>"
            ]
          },
          "metadata": {
            "tags": []
          }
        }
      ]
    },
    {
      "cell_type": "code",
      "metadata": {
        "id": "tztzOpxbDfHN",
        "colab_type": "code",
        "colab": {}
      },
      "source": [
        ""
      ],
      "execution_count": 0,
      "outputs": []
    }
  ]
}