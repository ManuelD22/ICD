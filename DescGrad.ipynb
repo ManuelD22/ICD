{
  "nbformat": 4,
  "nbformat_minor": 0,
  "metadata": {
    "colab": {
      "name": "DescGrad.ipynb",
      "provenance": [],
      "collapsed_sections": [],
      "include_colab_link": true
    },
    "kernelspec": {
      "name": "python3",
      "display_name": "Python 3"
    }
  },
  "cells": [
    {
      "cell_type": "markdown",
      "metadata": {
        "id": "view-in-github",
        "colab_type": "text"
      },
      "source": [
        "<a href=\"https://colab.research.google.com/github/ManuelD22/ICD/blob/master/DescGrad.ipynb\" target=\"_parent\"><img src=\"https://colab.research.google.com/assets/colab-badge.svg\" alt=\"Open In Colab\"/></a>"
      ]
    },
    {
      "cell_type": "markdown",
      "metadata": {
        "id": "q2Pobh_zR9rZ",
        "colab_type": "text"
      },
      "source": [
        "## Descenso por el gradiente\n",
        "\\begin{equation}\n",
        "\\theta_j=\\theta_j-\\frac{\\alpha}{m}\\frac{\\partial J}{\\partial\\theta_j}\n",
        "\\end{equation}\n",
        "$\\alpha=$ Taza de aprendizaje o learning rate\n",
        "\\begin{equation}\n",
        "\\theta_0^n=\\theta_0^a-\\frac{\\alpha}{m}\\frac{\\partial J}{\\partial\\theta_0}|_{\\theta_0=\\theta_0^a} \\\\\n",
        "\\theta_1^n=\\theta_1^a-\\frac{\\alpha}{m}\\frac{\\partial J}{\\partial\\theta_1}|_{\\theta_1=\\theta_1^a} \\\\\n",
        "\\frac{\\partial J}{\\partial\\theta_j}=\\frac{1}{N}\\Sigma_{i=1}^N e^i\\cdot x_j^i\n",
        "\\end{equation}"
      ]
    },
    {
      "cell_type": "code",
      "metadata": {
        "id": "Qixn132dSwBk",
        "colab_type": "code",
        "colab": {}
      },
      "source": [
        "#from pandas.compat import StringIO\n",
        "import pandas as pd\n",
        "import numpy as np\n",
        "import matplotlib.pyplot as plt"
      ],
      "execution_count": 0,
      "outputs": []
    },
    {
      "cell_type": "code",
      "metadata": {
        "id": "3aEqV2agVQIg",
        "colab_type": "code",
        "colab": {}
      },
      "source": [
        "data=\"\"\"\n",
        "26.4, 1.09, 1.13, 1.08, 1.06, 1.09, 1.09, 0.04 \\n \n",
        "35.4, 1.33, 1.27, 1.32, 1.25, 1.22, 1.28, 0.05 \\n\n",
        "38.7, 1.33, 1.36, 1.41, 1.33, 1.25, 1.34, 0.08 \\n\n",
        "46.6, 1.46, 1.40, 1.34, 1.45, 1.29, 1.39, 0.10 \\n\n",
        "52.2, 1.64, 1.57, 1.56, 1.55, 1.60, 1.58, 0.05 \\n\n",
        "57.3, 1.55, 1.50, 1.68, 1.55, 1.58, 1.57, 0.10 \\n\n",
        "63.2, 1.64, 1.64, 1.70, 1.82, 1.74, 1.71, 0.11 \\n\n",
        "72.4, 1.85, 1.78, 1.82, 1.80, 1.82, 1.81, 0.04 \\n\n",
        "86.5, 1.92, 1.92, 1.94, 1.95, 1.95, 1.94, 0.02\"\"\"\n",
        "df=pd.read_csv(StringIO(data),names=[\"L\",\"T1\",\"T2\",\"T3\",\"T4\",\"T5\",\"ave\",\"unc\"])\n",
        "df\n",
        "X, y=np.array(df)[:,0],np.array(df)[:,1]\n",
        "y*=y\n",
        "m=y.size"
      ],
      "execution_count": 0,
      "outputs": []
    },
    {
      "cell_type": "code",
      "metadata": {
        "id": "mzJXMJpJTuMY",
        "colab_type": "code",
        "colab": {}
      },
      "source": [
        "def linh(x, theta):\n",
        "  #x.dot(theta) np.dot(x,theta)\n",
        "  return theta[0]*x[0]+theta[1]*x[1]"
      ],
      "execution_count": 0,
      "outputs": []
    },
    {
      "cell_type": "code",
      "metadata": {
        "id": "K0Hzgo4FUdYa",
        "colab_type": "code",
        "colab": {}
      },
      "source": [
        "theta=[1,1]\n",
        "linh(X[0],theta)"
      ],
      "execution_count": 0,
      "outputs": []
    },
    {
      "cell_type": "code",
      "metadata": {
        "id": "Uts8uIAOUf8K",
        "colab_type": "code",
        "colab": {}
      },
      "source": [
        "hipLineal=[linh(instancias,theta) for instancias in X]\n",
        "#for instancias in X:\n",
        "  #linh(instancias,theta)"
      ],
      "execution_count": 0,
      "outputs": []
    },
    {
      "cell_type": "code",
      "metadata": {
        "id": "rZZ8MdjIUoCN",
        "colab_type": "code",
        "colab": {}
      },
      "source": [
        "hipLineal-y"
      ],
      "execution_count": 0,
      "outputs": []
    },
    {
      "cell_type": "code",
      "metadata": {
        "id": "Mc_U7_REUrLl",
        "colab_type": "code",
        "colab": {}
      },
      "source": [
        "def error (X,y,theta):\n",
        "  hipl=[linh(instancias,theta) for instancias in X]\n",
        "  return hipl-y"
      ],
      "execution_count": 0,
      "outputs": []
    },
    {
      "cell_type": "code",
      "metadata": {
        "id": "0PKtFws1Uu3L",
        "colab_type": "code",
        "colab": {}
      },
      "source": [
        "error(X,y,theta)"
      ],
      "execution_count": 0,
      "outputs": []
    },
    {
      "cell_type": "code",
      "metadata": {
        "id": "ZA8SNHwcUx9h",
        "colab_type": "code",
        "colab": {}
      },
      "source": [
        "%%timeit\n",
        "alpha=0.001\n",
        "theta=[1,1]\n",
        "print (theta)\n",
        "for iteraciones in range (1500):\n",
        "  e=error(X,y,theta)\n",
        "  dJd0=e*X[::,0]\n",
        "  dJd1=e*X[::,1]\n",
        "  dJ=np.array([dJd0.sum(),dJd1.sum()])\n",
        "  theta=theta-(alpha/m)*dJ\n",
        "print (theta)"
      ],
      "execution_count": 0,
      "outputs": []
    },
    {
      "cell_type": "code",
      "metadata": {
        "id": "uz-pcKdKU1n-",
        "colab_type": "code",
        "colab": {}
      },
      "source": [
        "def calculaCosto(X,y,theta):\n",
        "  m=y.size\n",
        "  J=0\n",
        "  h=np.dot(X,theta) #aplicar la hipotesis lineal a los datos\n",
        "  J=(1/(2*m))*np.sum(np.square(h-y))\n",
        "  return J"
      ],
      "execution_count": 0,
      "outputs": []
    },
    {
      "cell_type": "code",
      "metadata": {
        "id": "yNVW2gkWU5MC",
        "colab_type": "code",
        "colab": {}
      },
      "source": [
        "theta=[1,1]\n",
        "calculaCosto(X,y,theta)"
      ],
      "execution_count": 0,
      "outputs": []
    },
    {
      "cell_type": "code",
      "metadata": {
        "id": "8EYSlsnRVAJ7",
        "colab_type": "code",
        "colab": {}
      },
      "source": [
        "def desGrad(X,y,theta,alpha,num_iters):\n",
        "  m=y.shape[0]\n",
        "  theta=theta.copy()\n",
        "  J_historico=[]\n",
        "  for it in range(num_iters):\n",
        "    theta=theta-(alpha/m)*(np.dot(X,theta)-y).dot(X)\n",
        "    J_historico.append(calculaCosto(X,y,theta))\n",
        "  return theta,J_historico"
      ],
      "execution_count": 0,
      "outputs": []
    },
    {
      "cell_type": "code",
      "metadata": {
        "id": "BZz2MTyrVBTO",
        "colab_type": "code",
        "colab": {}
      },
      "source": [
        "theta=np.ones(X.shape[1])\n",
        "print(theta)\n",
        "theta_dg , J =desGrad(X,y,theta,0.0001,1500)\n",
        "print (theta_dg)"
      ],
      "execution_count": 0,
      "outputs": []
    },
    {
      "cell_type": "code",
      "metadata": {
        "id": "1I8RHSVVVEFb",
        "colab_type": "code",
        "colab": {}
      },
      "source": [
        ""
      ],
      "execution_count": 0,
      "outputs": []
    }
  ]
}